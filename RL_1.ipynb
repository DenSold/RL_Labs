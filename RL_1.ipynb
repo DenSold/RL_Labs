{
 "cells": [
  {
   "cell_type": "markdown",
   "id": "6c8d0024-c1fb-4702-be28-1d74c7916c18",
   "metadata": {},
   "source": [
    "## Выбор задачи\n",
    "Мы выберем задачу балансировки маятника (CartPole), которая является классической задачей из библиотеки OpenAI Gym, так как:\n",
    "\n",
    "* Простая, но показательная среда, которая позволяет продемонстрировать основные принципы RL.\n",
    "* Четко определенные состояния, действия и награды.\n",
    "* Широко используется для тестирования алгоритмов обучения с подкреплением."
   ]
  },
  {
   "cell_type": "markdown",
   "id": "9197d223-015c-4414-90e5-29e6501e868d",
   "metadata": {},
   "source": [
    "## Подготовка среды\n",
    "### Установка OpenAI Gym\n",
    "Необходимо установить библиотеку OpenAI Gym:"
   ]
  },
  {
   "cell_type": "code",
   "execution_count": null,
   "id": "a70f2d31-8311-4c3c-b153-49347cdc9162",
   "metadata": {},
   "outputs": [],
   "source": [
    "pip install gym"
   ]
  },
  {
   "cell_type": "markdown",
   "id": "d9a092b1-a185-4f85-bea4-808c31730b57",
   "metadata": {},
   "source": [
    "### Структура среды\n",
    "Среда CartPole-v1 представляет собой задачу балансировки шеста на тележке.\n",
    "\n",
    "#### Состояния (state):\n",
    "Среда возвращает 4 параметра, описывающих состояние системы:\n",
    "\n",
    "- Позиция тележки (x)\n",
    "\n",
    "- Скорость тележки (v)\n",
    "\n",
    "- Угол маятника (θ)\n",
    "\n",
    "- Угловая скорость маятника (ω)\n",
    "\n",
    "#### Действия (actions):\n",
    "Агент может выполнять два действия:\n",
    "- 0: Толкнуть тележку влево\n",
    "\n",
    "- 1: Толкнуть тележку вправо\n",
    "\n",
    "#### Функция награды (reward):\n",
    "\n",
    "Агент получает +1 за каждый шаг, пока шест не упадет.\n",
    "\n",
    "#### Ограничения:\n",
    "\n",
    "Эпизод заканчивается, если угол маятника становится больше 12° или тележка уходит за границы экрана."
   ]
  },
  {
   "cell_type": "markdown",
   "id": "d83feec5-81d3-49dc-8f01-4461b2d8bc57",
   "metadata": {},
   "source": [
    "### Тестирование выбранной среды\n",
    "#### Тестовый скрипт"
   ]
  },
  {
   "cell_type": "code",
   "execution_count": null,
   "id": "589c53f3-8e64-4dba-8061-0b3728e38681",
   "metadata": {},
   "outputs": [],
   "source": [
    "import gym\n",
    "\n",
    "# Создаем среду с корректным режимом рендеринга\n",
    "env = gym.make(\"CartPole-v1\", render_mode=\"human\")\n",
    "\n",
    "for episode in range(10):\n",
    "    state, _ = env.reset()\n",
    "    done = False\n",
    "    while not done:\n",
    "        action = env.action_space.sample()  # Случайное действие\n",
    "        state, reward, done, truncated, info = env.step(action)  # Шаг среды\n",
    "\n",
    "env.close()"
   ]
  },
  {
   "cell_type": "markdown",
   "id": "476abecb-559e-430b-8850-937d0459a581",
   "metadata": {},
   "source": [
    "#### Результат\n",
    "Видео результата выполнения тестового скрипта:\n",
    "https://disk.yandex.com/i/jBwOJwLBido7vg"
   ]
  }
 ],
 "metadata": {
  "kernelspec": {
   "display_name": "Python 3 (ipykernel)",
   "language": "python",
   "name": "python3"
  },
  "language_info": {
   "codemirror_mode": {
    "name": "ipython",
    "version": 3
   },
   "file_extension": ".py",
   "mimetype": "text/x-python",
   "name": "python",
   "nbconvert_exporter": "python",
   "pygments_lexer": "ipython3",
   "version": "3.10.11"
  }
 },
 "nbformat": 4,
 "nbformat_minor": 5
}
